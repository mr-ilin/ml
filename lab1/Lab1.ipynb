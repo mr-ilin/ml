{
  "cells": [
    {
      "cell_type": "markdown",
      "metadata": {
        "id": "hRKBFU2SahEB"
      },
      "source": [
        "# Лабораторная работа №1 по курсу \"Искусственный интеллект - Машинное обучение\""
      ]
    },
    {
      "cell_type": "markdown",
      "metadata": {
        "id": "GB52ITJ8Nqd7"
      },
      "source": [
        "| Студент | Ильин И.О. |\n",
        "|---------|--------|\n",
        "| Группа  | М8О-406Б-19      |"
      ]
    },
    {
      "cell_type": "markdown",
      "metadata": {
        "id": "hPy-4TATNtY0"
      },
      "source": [
        "## Задача\n",
        "Формально говоря вам предстоит сделать следующее:\n",
        "\n",
        "1) реализовать следующие алгоритмы машинного обучения: Linear/Logistic Regression, SVM, KNN, Naive Bayes в отдельных классах.\n",
        "\n",
        "2)  Данные классы должны наследоваться от BaseEstimator и  ClassifierMixin, иметь методы fit и predict (подробнее: https://scikit-learn.org/stable/developers/develop.html).\n",
        "\n",
        "3) Вы должны организовать весь процесс предобработки, обучения и тестирования с помощью Pipeline (подробнее: https://scikit-learn.org/stable/modules/compose.html).\n",
        "\n",
        "4) Вы должны настроить гиперпараметры моделей с помощью кросс валидации (GridSearchCV,RandomSearchCV, подробнее здесь: https://scikit-learn.org/stable/modules/grid_search.html), вывести и сохранить эти гиперпараметры в файл, вместе с обученными моделями.\n",
        "\n",
        "5) Проделать аналогично с коробочными решениями.\n",
        "\n",
        "6) Для каждой модели получить оценки метрик:Confusion Matrix,  Accuracy, Recall, Precision, ROC_AUC curve (подробнее: Hands on machine learning with python and scikit learn chapter 3, mlcourse.ai, https://ml-handbook.ru/chapters/model_evaluation/intro).\n",
        "\n",
        "7) Проанализировать полученные результаты и сделать выводы о применимости моделей.\n",
        "\n",
        "8) Загрузить полученные гиперпараметры модели и обученные модели в формате pickle  на гит вместе с jupyter notebook ваших экспериментов."
      ]
    },
    {
      "cell_type": "markdown",
      "metadata": {
        "id": "s78cgBWOJQgb"
      },
      "source": [
        "## Настройка среды"
      ]
    },
    {
      "cell_type": "markdown",
      "metadata": {
        "id": "k_wCxN1va2Rp"
      },
      "source": [
        "Загрузим все необходимые библиотеки:"
      ]
    },
    {
      "cell_type": "code",
      "execution_count": 1,
      "metadata": {
        "id": "CzdlGPt3a2Xm"
      },
      "outputs": [],
      "source": [
        "import numpy as np\n",
        "import pandas as pd\n",
        "import matplotlib.pyplot as plt"
      ]
    },
    {
      "cell_type": "markdown",
      "metadata": {
        "id": "U4CyHT7E_mIO"
      },
      "source": [
        "**Описание входных данных:**\n",
        "https://www.kaggle.com/datasets/dgomonov/new-york-city-airbnb-open-data\n",
        "\n",
        "• id – id апартаментов.\n",
        "\n",
        "• name – название апартаментов.\n",
        "\n",
        "• host ID – id хозяина.\n",
        "\n",
        "• host_name – имя хозяина.\n",
        "\n",
        "• neighbourhood_group – район нью йорка.\n",
        "\n",
        "• neighbourhood – окрестность.\n",
        "\n",
        "• latitude – широта.\n",
        "\n",
        "• longitude – долгота.\n",
        "\n",
        "• room_type – тип апартаментов.\n",
        "\n",
        "• price – цена апартаментов.\n",
        "\n",
        "• minimum_nights – минимальное кол-во ночей.\n",
        "\n",
        "• number_of_reviews – количество отзывов.\n",
        "\n",
        "• last_review – дата последнего отзыва.\n",
        "\n",
        "• reviews_per_month – количество отзывов за месяц.\n",
        "\n",
        "• calculated_host_listings_count – количество записей на аппартаменты.\n",
        "\n",
        "• availability_365 – количество дней, когда аппартаменты доступно для бронирования.\n",
        "\n",
        "**Типы признаков:**\n",
        "\n",
        "• Категориальные\n",
        "\n",
        "– name\n",
        "\n",
        "– host_name\n",
        "\n",
        "– neighbourhood_group\n",
        "\n",
        "– neighbourhood\n",
        "\n",
        "– room_type\n",
        "\n",
        "– last_review\n",
        "\n",
        "• Количественные\n",
        "\n",
        "– id\n",
        "\n",
        "– host_id\n",
        "\n",
        "– latitude\n",
        "\n",
        "– longitude\n",
        "\n",
        "– price\n",
        "\n",
        "– number_of_reviews\n",
        "\n",
        "– reviews_per_month\n",
        "\n",
        "– calculated_host_listings_count\n",
        "\n",
        "– availability_365\n",
        "\n",
        "**Размер:**\n",
        "\n",
        "• Строк: 48895\n",
        "\n",
        "• Столбцов: 16\n",
        "\n",
        "**Решаемая задача:**\n",
        "\n",
        "Задача классификации: классификация на дешевый/дорогой price.\n",
        "\n",
        "Добавим столбец target классификации по средней цене, если цена апартаментов больше или равна средней то, будем считать, что это высокая цена и добавим 1 в строке с апартаментами в столбец target, иначе 0."
      ]
    },
    {
      "cell_type": "markdown",
      "metadata": {
        "id": "ou51ZdkwaqoN"
      },
      "source": [
        "Загрузим уже предобработанные данные из нулевой лабораторной работы:"
      ]
    },
    {
      "cell_type": "code",
      "execution_count": 2,
      "metadata": {
        "colab": {
          "base_uri": "https://localhost:8080/",
          "height": 0
        },
        "id": "xeoN7IEX1hmf",
        "outputId": "4d14e420-5e7a-4450-8f96-8cd09419f2ea"
      },
      "outputs": [
        {
          "name": "stdout",
          "output_type": "stream",
          "text": [
            "Drive already mounted at /content/drive; to attempt to forcibly remount, call drive.mount(\"/content/drive\", force_remount=True).\n"
          ]
        }
      ],
      "source": [
        "from google.colab import drive\n",
        "drive.mount('/content/drive')"
      ]
    },
    {
      "cell_type": "code",
      "execution_count": 3,
      "metadata": {
        "id": "QhvXZleh14ji"
      },
      "outputs": [],
      "source": [
        "data = pd.read_csv('/content/drive/MyDrive/Colab Notebooks/nice_price.csv')"
      ]
    },
    {
      "cell_type": "code",
      "execution_count": 4,
      "metadata": {
        "colab": {
          "base_uri": "https://localhost:8080/",
          "height": 270
        },
        "id": "-oPUGlDhbKwA",
        "outputId": "f0effb66-9c5e-495a-b03f-bed24e863e46"
      },
      "outputs": [
        {
          "data": {
            "text/html": [
              "\n",
              "  <div id=\"df-ae8127ea-28b4-4de9-8215-9dfecc19da07\">\n",
              "    <div class=\"colab-df-container\">\n",
              "      <div>\n",
              "<style scoped>\n",
              "    .dataframe tbody tr th:only-of-type {\n",
              "        vertical-align: middle;\n",
              "    }\n",
              "\n",
              "    .dataframe tbody tr th {\n",
              "        vertical-align: top;\n",
              "    }\n",
              "\n",
              "    .dataframe thead th {\n",
              "        text-align: right;\n",
              "    }\n",
              "</style>\n",
              "<table border=\"1\" class=\"dataframe\">\n",
              "  <thead>\n",
              "    <tr style=\"text-align: right;\">\n",
              "      <th></th>\n",
              "      <th>latitude</th>\n",
              "      <th>longitude</th>\n",
              "      <th>minimum_nights</th>\n",
              "      <th>number_of_reviews</th>\n",
              "      <th>reviews_per_month</th>\n",
              "      <th>calculated_host_listings_count</th>\n",
              "      <th>availability_365</th>\n",
              "      <th>neighbourhood</th>\n",
              "      <th>group_0</th>\n",
              "      <th>group_1</th>\n",
              "      <th>group_2</th>\n",
              "      <th>group_3</th>\n",
              "      <th>group_4</th>\n",
              "      <th>room_0</th>\n",
              "      <th>room_1</th>\n",
              "      <th>room_2</th>\n",
              "      <th>target</th>\n",
              "    </tr>\n",
              "  </thead>\n",
              "  <tbody>\n",
              "    <tr>\n",
              "      <th>0</th>\n",
              "      <td>-1.493849</td>\n",
              "      <td>-0.437652</td>\n",
              "      <td>-0.293996</td>\n",
              "      <td>-0.320414</td>\n",
              "      <td>-0.776641</td>\n",
              "      <td>-0.034716</td>\n",
              "      <td>1.916250</td>\n",
              "      <td>0.012762</td>\n",
              "      <td>-0.151071</td>\n",
              "      <td>1.196705</td>\n",
              "      <td>-0.891833</td>\n",
              "      <td>-0.362035</td>\n",
              "      <td>-0.087677</td>\n",
              "      <td>-1.040134</td>\n",
              "      <td>1.090893</td>\n",
              "      <td>-0.155887</td>\n",
              "      <td>0</td>\n",
              "    </tr>\n",
              "    <tr>\n",
              "      <th>1</th>\n",
              "      <td>0.452436</td>\n",
              "      <td>-0.684639</td>\n",
              "      <td>-0.293996</td>\n",
              "      <td>0.487665</td>\n",
              "      <td>-0.663138</td>\n",
              "      <td>-0.156104</td>\n",
              "      <td>1.840275</td>\n",
              "      <td>0.289156</td>\n",
              "      <td>-0.151071</td>\n",
              "      <td>-0.835628</td>\n",
              "      <td>1.121286</td>\n",
              "      <td>-0.362035</td>\n",
              "      <td>-0.087677</td>\n",
              "      <td>0.961415</td>\n",
              "      <td>-0.916680</td>\n",
              "      <td>-0.155887</td>\n",
              "      <td>1</td>\n",
              "    </tr>\n",
              "    <tr>\n",
              "      <th>2</th>\n",
              "      <td>1.468399</td>\n",
              "      <td>0.222497</td>\n",
              "      <td>-0.196484</td>\n",
              "      <td>-0.522433</td>\n",
              "      <td>0.000000</td>\n",
              "      <td>-0.186451</td>\n",
              "      <td>1.916250</td>\n",
              "      <td>-0.190897</td>\n",
              "      <td>-0.151071</td>\n",
              "      <td>-0.835628</td>\n",
              "      <td>1.121286</td>\n",
              "      <td>-0.362035</td>\n",
              "      <td>-0.087677</td>\n",
              "      <td>-1.040134</td>\n",
              "      <td>1.090893</td>\n",
              "      <td>-0.155887</td>\n",
              "      <td>0</td>\n",
              "    </tr>\n",
              "    <tr>\n",
              "      <th>3</th>\n",
              "      <td>-0.803398</td>\n",
              "      <td>-0.164450</td>\n",
              "      <td>-0.293996</td>\n",
              "      <td>5.538156</td>\n",
              "      <td>2.181110</td>\n",
              "      <td>-0.186451</td>\n",
              "      <td>0.617065</td>\n",
              "      <td>-0.961892</td>\n",
              "      <td>-0.151071</td>\n",
              "      <td>1.196705</td>\n",
              "      <td>-0.891833</td>\n",
              "      <td>-0.362035</td>\n",
              "      <td>-0.087677</td>\n",
              "      <td>0.961415</td>\n",
              "      <td>-0.916680</td>\n",
              "      <td>-0.155887</td>\n",
              "      <td>0</td>\n",
              "    </tr>\n",
              "    <tr>\n",
              "      <th>4</th>\n",
              "      <td>1.275660</td>\n",
              "      <td>0.177216</td>\n",
              "      <td>0.144807</td>\n",
              "      <td>-0.320414</td>\n",
              "      <td>-0.850084</td>\n",
              "      <td>-0.186451</td>\n",
              "      <td>-0.856865</td>\n",
              "      <td>-0.670950</td>\n",
              "      <td>-0.151071</td>\n",
              "      <td>-0.835628</td>\n",
              "      <td>1.121286</td>\n",
              "      <td>-0.362035</td>\n",
              "      <td>-0.087677</td>\n",
              "      <td>0.961415</td>\n",
              "      <td>-0.916680</td>\n",
              "      <td>-0.155887</td>\n",
              "      <td>0</td>\n",
              "    </tr>\n",
              "  </tbody>\n",
              "</table>\n",
              "</div>\n",
              "      <button class=\"colab-df-convert\" onclick=\"convertToInteractive('df-ae8127ea-28b4-4de9-8215-9dfecc19da07')\"\n",
              "              title=\"Convert this dataframe to an interactive table.\"\n",
              "              style=\"display:none;\">\n",
              "        \n",
              "  <svg xmlns=\"http://www.w3.org/2000/svg\" height=\"24px\"viewBox=\"0 0 24 24\"\n",
              "       width=\"24px\">\n",
              "    <path d=\"M0 0h24v24H0V0z\" fill=\"none\"/>\n",
              "    <path d=\"M18.56 5.44l.94 2.06.94-2.06 2.06-.94-2.06-.94-.94-2.06-.94 2.06-2.06.94zm-11 1L8.5 8.5l.94-2.06 2.06-.94-2.06-.94L8.5 2.5l-.94 2.06-2.06.94zm10 10l.94 2.06.94-2.06 2.06-.94-2.06-.94-.94-2.06-.94 2.06-2.06.94z\"/><path d=\"M17.41 7.96l-1.37-1.37c-.4-.4-.92-.59-1.43-.59-.52 0-1.04.2-1.43.59L10.3 9.45l-7.72 7.72c-.78.78-.78 2.05 0 2.83L4 21.41c.39.39.9.59 1.41.59.51 0 1.02-.2 1.41-.59l7.78-7.78 2.81-2.81c.8-.78.8-2.07 0-2.86zM5.41 20L4 18.59l7.72-7.72 1.47 1.35L5.41 20z\"/>\n",
              "  </svg>\n",
              "      </button>\n",
              "      \n",
              "  <style>\n",
              "    .colab-df-container {\n",
              "      display:flex;\n",
              "      flex-wrap:wrap;\n",
              "      gap: 12px;\n",
              "    }\n",
              "\n",
              "    .colab-df-convert {\n",
              "      background-color: #E8F0FE;\n",
              "      border: none;\n",
              "      border-radius: 50%;\n",
              "      cursor: pointer;\n",
              "      display: none;\n",
              "      fill: #1967D2;\n",
              "      height: 32px;\n",
              "      padding: 0 0 0 0;\n",
              "      width: 32px;\n",
              "    }\n",
              "\n",
              "    .colab-df-convert:hover {\n",
              "      background-color: #E2EBFA;\n",
              "      box-shadow: 0px 1px 2px rgba(60, 64, 67, 0.3), 0px 1px 3px 1px rgba(60, 64, 67, 0.15);\n",
              "      fill: #174EA6;\n",
              "    }\n",
              "\n",
              "    [theme=dark] .colab-df-convert {\n",
              "      background-color: #3B4455;\n",
              "      fill: #D2E3FC;\n",
              "    }\n",
              "\n",
              "    [theme=dark] .colab-df-convert:hover {\n",
              "      background-color: #434B5C;\n",
              "      box-shadow: 0px 1px 3px 1px rgba(0, 0, 0, 0.15);\n",
              "      filter: drop-shadow(0px 1px 2px rgba(0, 0, 0, 0.3));\n",
              "      fill: #FFFFFF;\n",
              "    }\n",
              "  </style>\n",
              "\n",
              "      <script>\n",
              "        const buttonEl =\n",
              "          document.querySelector('#df-ae8127ea-28b4-4de9-8215-9dfecc19da07 button.colab-df-convert');\n",
              "        buttonEl.style.display =\n",
              "          google.colab.kernel.accessAllowed ? 'block' : 'none';\n",
              "\n",
              "        async function convertToInteractive(key) {\n",
              "          const element = document.querySelector('#df-ae8127ea-28b4-4de9-8215-9dfecc19da07');\n",
              "          const dataTable =\n",
              "            await google.colab.kernel.invokeFunction('convertToInteractive',\n",
              "                                                     [key], {});\n",
              "          if (!dataTable) return;\n",
              "\n",
              "          const docLinkHtml = 'Like what you see? Visit the ' +\n",
              "            '<a target=\"_blank\" href=https://colab.research.google.com/notebooks/data_table.ipynb>data table notebook</a>'\n",
              "            + ' to learn more about interactive tables.';\n",
              "          element.innerHTML = '';\n",
              "          dataTable['output_type'] = 'display_data';\n",
              "          await google.colab.output.renderOutput(dataTable, element);\n",
              "          const docLink = document.createElement('div');\n",
              "          docLink.innerHTML = docLinkHtml;\n",
              "          element.appendChild(docLink);\n",
              "        }\n",
              "      </script>\n",
              "    </div>\n",
              "  </div>\n",
              "  "
            ],
            "text/plain": [
              "   latitude  longitude  minimum_nights  number_of_reviews  reviews_per_month  \\\n",
              "0 -1.493849  -0.437652       -0.293996          -0.320414          -0.776641   \n",
              "1  0.452436  -0.684639       -0.293996           0.487665          -0.663138   \n",
              "2  1.468399   0.222497       -0.196484          -0.522433           0.000000   \n",
              "3 -0.803398  -0.164450       -0.293996           5.538156           2.181110   \n",
              "4  1.275660   0.177216        0.144807          -0.320414          -0.850084   \n",
              "\n",
              "   calculated_host_listings_count  availability_365  neighbourhood   group_0  \\\n",
              "0                       -0.034716          1.916250       0.012762 -0.151071   \n",
              "1                       -0.156104          1.840275       0.289156 -0.151071   \n",
              "2                       -0.186451          1.916250      -0.190897 -0.151071   \n",
              "3                       -0.186451          0.617065      -0.961892 -0.151071   \n",
              "4                       -0.186451         -0.856865      -0.670950 -0.151071   \n",
              "\n",
              "    group_1   group_2   group_3   group_4    room_0    room_1    room_2  \\\n",
              "0  1.196705 -0.891833 -0.362035 -0.087677 -1.040134  1.090893 -0.155887   \n",
              "1 -0.835628  1.121286 -0.362035 -0.087677  0.961415 -0.916680 -0.155887   \n",
              "2 -0.835628  1.121286 -0.362035 -0.087677 -1.040134  1.090893 -0.155887   \n",
              "3  1.196705 -0.891833 -0.362035 -0.087677  0.961415 -0.916680 -0.155887   \n",
              "4 -0.835628  1.121286 -0.362035 -0.087677  0.961415 -0.916680 -0.155887   \n",
              "\n",
              "   target  \n",
              "0       0  \n",
              "1       1  \n",
              "2       0  \n",
              "3       0  \n",
              "4       0  "
            ]
          },
          "execution_count": 4,
          "metadata": {},
          "output_type": "execute_result"
        }
      ],
      "source": [
        "data.head()"
      ]
    },
    {
      "cell_type": "code",
      "execution_count": 5,
      "metadata": {
        "colab": {
          "base_uri": "https://localhost:8080/",
          "height": 0
        },
        "id": "h85cJcWL8IBK",
        "outputId": "de28f1a0-be6d-4d26-82bc-e48b302d5cf2"
      },
      "outputs": [
        {
          "name": "stdout",
          "output_type": "stream",
          "text": [
            "<class 'pandas.core.frame.DataFrame'>\n",
            "RangeIndex: 48895 entries, 0 to 48894\n",
            "Data columns (total 17 columns):\n",
            " #   Column                          Non-Null Count  Dtype  \n",
            "---  ------                          --------------  -----  \n",
            " 0   latitude                        48895 non-null  float64\n",
            " 1   longitude                       48895 non-null  float64\n",
            " 2   minimum_nights                  48895 non-null  float64\n",
            " 3   number_of_reviews               48895 non-null  float64\n",
            " 4   reviews_per_month               48895 non-null  float64\n",
            " 5   calculated_host_listings_count  48895 non-null  float64\n",
            " 6   availability_365                48895 non-null  float64\n",
            " 7   neighbourhood                   48895 non-null  float64\n",
            " 8   group_0                         48895 non-null  float64\n",
            " 9   group_1                         48895 non-null  float64\n",
            " 10  group_2                         48895 non-null  float64\n",
            " 11  group_3                         48895 non-null  float64\n",
            " 12  group_4                         48895 non-null  float64\n",
            " 13  room_0                          48895 non-null  float64\n",
            " 14  room_1                          48895 non-null  float64\n",
            " 15  room_2                          48895 non-null  float64\n",
            " 16  target                          48895 non-null  int64  \n",
            "dtypes: float64(16), int64(1)\n",
            "memory usage: 6.3 MB\n"
          ]
        }
      ],
      "source": [
        "data.info()"
      ]
    },
    {
      "cell_type": "code",
      "execution_count": 6,
      "metadata": {
        "id": "y9I4Zu5wbM-g"
      },
      "outputs": [],
      "source": [
        "X = data.drop('target', axis = 1)\n",
        "Y = data['target'].to_numpy()"
      ]
    },
    {
      "cell_type": "code",
      "execution_count": 7,
      "metadata": {
        "id": "-rYqPVNrbOQN"
      },
      "outputs": [],
      "source": [
        "from sklearn.model_selection import train_test_split\n",
        "data_train, data_test, target_train, target_test = train_test_split(X, Y, test_size = 0.3, random_state = 42)"
      ]
    },
    {
      "cell_type": "code",
      "execution_count": 8,
      "metadata": {
        "colab": {
          "base_uri": "https://localhost:8080/",
          "height": 270
        },
        "id": "In3TG1vxszBU",
        "outputId": "1e603104-c86d-4201-dbb8-12968e2ec323"
      },
      "outputs": [
        {
          "data": {
            "text/html": [
              "\n",
              "  <div id=\"df-73c69d9e-5781-47ac-9bb0-38c793ffe56b\">\n",
              "    <div class=\"colab-df-container\">\n",
              "      <div>\n",
              "<style scoped>\n",
              "    .dataframe tbody tr th:only-of-type {\n",
              "        vertical-align: middle;\n",
              "    }\n",
              "\n",
              "    .dataframe tbody tr th {\n",
              "        vertical-align: top;\n",
              "    }\n",
              "\n",
              "    .dataframe thead th {\n",
              "        text-align: right;\n",
              "    }\n",
              "</style>\n",
              "<table border=\"1\" class=\"dataframe\">\n",
              "  <thead>\n",
              "    <tr style=\"text-align: right;\">\n",
              "      <th></th>\n",
              "      <th>latitude</th>\n",
              "      <th>longitude</th>\n",
              "      <th>minimum_nights</th>\n",
              "      <th>number_of_reviews</th>\n",
              "      <th>reviews_per_month</th>\n",
              "      <th>calculated_host_listings_count</th>\n",
              "      <th>availability_365</th>\n",
              "      <th>neighbourhood</th>\n",
              "      <th>group_0</th>\n",
              "      <th>group_1</th>\n",
              "      <th>group_2</th>\n",
              "      <th>group_3</th>\n",
              "      <th>group_4</th>\n",
              "      <th>room_0</th>\n",
              "      <th>room_1</th>\n",
              "      <th>room_2</th>\n",
              "    </tr>\n",
              "  </thead>\n",
              "  <tbody>\n",
              "    <tr>\n",
              "      <th>21681</th>\n",
              "      <td>-0.676494</td>\n",
              "      <td>4.478474</td>\n",
              "      <td>-0.245240</td>\n",
              "      <td>0.936597</td>\n",
              "      <td>0.638807</td>\n",
              "      <td>-0.186451</td>\n",
              "      <td>1.141298</td>\n",
              "      <td>-1.136456</td>\n",
              "      <td>-0.151071</td>\n",
              "      <td>-0.835628</td>\n",
              "      <td>-0.891833</td>\n",
              "      <td>2.762163</td>\n",
              "      <td>-0.087677</td>\n",
              "      <td>0.961415</td>\n",
              "      <td>-0.916680</td>\n",
              "      <td>-0.155887</td>\n",
              "    </tr>\n",
              "    <tr>\n",
              "      <th>26482</th>\n",
              "      <td>-1.253429</td>\n",
              "      <td>-0.918194</td>\n",
              "      <td>-0.245240</td>\n",
              "      <td>0.016286</td>\n",
              "      <td>-0.149037</td>\n",
              "      <td>-0.186451</td>\n",
              "      <td>-0.765694</td>\n",
              "      <td>1.205621</td>\n",
              "      <td>-0.151071</td>\n",
              "      <td>1.196705</td>\n",
              "      <td>-0.891833</td>\n",
              "      <td>-0.362035</td>\n",
              "      <td>-0.087677</td>\n",
              "      <td>0.961415</td>\n",
              "      <td>-0.916680</td>\n",
              "      <td>-0.155887</td>\n",
              "    </tr>\n",
              "    <tr>\n",
              "      <th>20859</th>\n",
              "      <td>0.244292</td>\n",
              "      <td>-0.479900</td>\n",
              "      <td>-0.098973</td>\n",
              "      <td>-0.477540</td>\n",
              "      <td>-0.870114</td>\n",
              "      <td>-0.186451</td>\n",
              "      <td>-0.856865</td>\n",
              "      <td>0.070950</td>\n",
              "      <td>-0.151071</td>\n",
              "      <td>-0.835628</td>\n",
              "      <td>1.121286</td>\n",
              "      <td>-0.362035</td>\n",
              "      <td>-0.087677</td>\n",
              "      <td>-1.040134</td>\n",
              "      <td>1.090893</td>\n",
              "      <td>-0.155887</td>\n",
              "    </tr>\n",
              "    <tr>\n",
              "      <th>45464</th>\n",
              "      <td>-0.773689</td>\n",
              "      <td>0.135185</td>\n",
              "      <td>-0.293996</td>\n",
              "      <td>-0.432647</td>\n",
              "      <td>0.992668</td>\n",
              "      <td>-0.125757</td>\n",
              "      <td>-0.856865</td>\n",
              "      <td>-1.369209</td>\n",
              "      <td>-0.151071</td>\n",
              "      <td>1.196705</td>\n",
              "      <td>-0.891833</td>\n",
              "      <td>-0.362035</td>\n",
              "      <td>-0.087677</td>\n",
              "      <td>-1.040134</td>\n",
              "      <td>1.090893</td>\n",
              "      <td>-0.155887</td>\n",
              "    </tr>\n",
              "    <tr>\n",
              "      <th>22583</th>\n",
              "      <td>0.571821</td>\n",
              "      <td>-0.292276</td>\n",
              "      <td>-0.196484</td>\n",
              "      <td>-0.387753</td>\n",
              "      <td>-0.756611</td>\n",
              "      <td>-0.186451</td>\n",
              "      <td>-0.856865</td>\n",
              "      <td>0.289156</td>\n",
              "      <td>-0.151071</td>\n",
              "      <td>-0.835628</td>\n",
              "      <td>1.121286</td>\n",
              "      <td>-0.362035</td>\n",
              "      <td>-0.087677</td>\n",
              "      <td>-1.040134</td>\n",
              "      <td>-0.916680</td>\n",
              "      <td>6.414894</td>\n",
              "    </tr>\n",
              "  </tbody>\n",
              "</table>\n",
              "</div>\n",
              "      <button class=\"colab-df-convert\" onclick=\"convertToInteractive('df-73c69d9e-5781-47ac-9bb0-38c793ffe56b')\"\n",
              "              title=\"Convert this dataframe to an interactive table.\"\n",
              "              style=\"display:none;\">\n",
              "        \n",
              "  <svg xmlns=\"http://www.w3.org/2000/svg\" height=\"24px\"viewBox=\"0 0 24 24\"\n",
              "       width=\"24px\">\n",
              "    <path d=\"M0 0h24v24H0V0z\" fill=\"none\"/>\n",
              "    <path d=\"M18.56 5.44l.94 2.06.94-2.06 2.06-.94-2.06-.94-.94-2.06-.94 2.06-2.06.94zm-11 1L8.5 8.5l.94-2.06 2.06-.94-2.06-.94L8.5 2.5l-.94 2.06-2.06.94zm10 10l.94 2.06.94-2.06 2.06-.94-2.06-.94-.94-2.06-.94 2.06-2.06.94z\"/><path d=\"M17.41 7.96l-1.37-1.37c-.4-.4-.92-.59-1.43-.59-.52 0-1.04.2-1.43.59L10.3 9.45l-7.72 7.72c-.78.78-.78 2.05 0 2.83L4 21.41c.39.39.9.59 1.41.59.51 0 1.02-.2 1.41-.59l7.78-7.78 2.81-2.81c.8-.78.8-2.07 0-2.86zM5.41 20L4 18.59l7.72-7.72 1.47 1.35L5.41 20z\"/>\n",
              "  </svg>\n",
              "      </button>\n",
              "      \n",
              "  <style>\n",
              "    .colab-df-container {\n",
              "      display:flex;\n",
              "      flex-wrap:wrap;\n",
              "      gap: 12px;\n",
              "    }\n",
              "\n",
              "    .colab-df-convert {\n",
              "      background-color: #E8F0FE;\n",
              "      border: none;\n",
              "      border-radius: 50%;\n",
              "      cursor: pointer;\n",
              "      display: none;\n",
              "      fill: #1967D2;\n",
              "      height: 32px;\n",
              "      padding: 0 0 0 0;\n",
              "      width: 32px;\n",
              "    }\n",
              "\n",
              "    .colab-df-convert:hover {\n",
              "      background-color: #E2EBFA;\n",
              "      box-shadow: 0px 1px 2px rgba(60, 64, 67, 0.3), 0px 1px 3px 1px rgba(60, 64, 67, 0.15);\n",
              "      fill: #174EA6;\n",
              "    }\n",
              "\n",
              "    [theme=dark] .colab-df-convert {\n",
              "      background-color: #3B4455;\n",
              "      fill: #D2E3FC;\n",
              "    }\n",
              "\n",
              "    [theme=dark] .colab-df-convert:hover {\n",
              "      background-color: #434B5C;\n",
              "      box-shadow: 0px 1px 3px 1px rgba(0, 0, 0, 0.15);\n",
              "      filter: drop-shadow(0px 1px 2px rgba(0, 0, 0, 0.3));\n",
              "      fill: #FFFFFF;\n",
              "    }\n",
              "  </style>\n",
              "\n",
              "      <script>\n",
              "        const buttonEl =\n",
              "          document.querySelector('#df-73c69d9e-5781-47ac-9bb0-38c793ffe56b button.colab-df-convert');\n",
              "        buttonEl.style.display =\n",
              "          google.colab.kernel.accessAllowed ? 'block' : 'none';\n",
              "\n",
              "        async function convertToInteractive(key) {\n",
              "          const element = document.querySelector('#df-73c69d9e-5781-47ac-9bb0-38c793ffe56b');\n",
              "          const dataTable =\n",
              "            await google.colab.kernel.invokeFunction('convertToInteractive',\n",
              "                                                     [key], {});\n",
              "          if (!dataTable) return;\n",
              "\n",
              "          const docLinkHtml = 'Like what you see? Visit the ' +\n",
              "            '<a target=\"_blank\" href=https://colab.research.google.com/notebooks/data_table.ipynb>data table notebook</a>'\n",
              "            + ' to learn more about interactive tables.';\n",
              "          element.innerHTML = '';\n",
              "          dataTable['output_type'] = 'display_data';\n",
              "          await google.colab.output.renderOutput(dataTable, element);\n",
              "          const docLink = document.createElement('div');\n",
              "          docLink.innerHTML = docLinkHtml;\n",
              "          element.appendChild(docLink);\n",
              "        }\n",
              "      </script>\n",
              "    </div>\n",
              "  </div>\n",
              "  "
            ],
            "text/plain": [
              "       latitude  longitude  minimum_nights  number_of_reviews  \\\n",
              "21681 -0.676494   4.478474       -0.245240           0.936597   \n",
              "26482 -1.253429  -0.918194       -0.245240           0.016286   \n",
              "20859  0.244292  -0.479900       -0.098973          -0.477540   \n",
              "45464 -0.773689   0.135185       -0.293996          -0.432647   \n",
              "22583  0.571821  -0.292276       -0.196484          -0.387753   \n",
              "\n",
              "       reviews_per_month  calculated_host_listings_count  availability_365  \\\n",
              "21681           0.638807                       -0.186451          1.141298   \n",
              "26482          -0.149037                       -0.186451         -0.765694   \n",
              "20859          -0.870114                       -0.186451         -0.856865   \n",
              "45464           0.992668                       -0.125757         -0.856865   \n",
              "22583          -0.756611                       -0.186451         -0.856865   \n",
              "\n",
              "       neighbourhood   group_0   group_1   group_2   group_3   group_4  \\\n",
              "21681      -1.136456 -0.151071 -0.835628 -0.891833  2.762163 -0.087677   \n",
              "26482       1.205621 -0.151071  1.196705 -0.891833 -0.362035 -0.087677   \n",
              "20859       0.070950 -0.151071 -0.835628  1.121286 -0.362035 -0.087677   \n",
              "45464      -1.369209 -0.151071  1.196705 -0.891833 -0.362035 -0.087677   \n",
              "22583       0.289156 -0.151071 -0.835628  1.121286 -0.362035 -0.087677   \n",
              "\n",
              "         room_0    room_1    room_2  \n",
              "21681  0.961415 -0.916680 -0.155887  \n",
              "26482  0.961415 -0.916680 -0.155887  \n",
              "20859 -1.040134  1.090893 -0.155887  \n",
              "45464 -1.040134  1.090893 -0.155887  \n",
              "22583 -1.040134 -0.916680  6.414894  "
            ]
          },
          "execution_count": 8,
          "metadata": {},
          "output_type": "execute_result"
        }
      ],
      "source": [
        "data_train.head()"
      ]
    },
    {
      "cell_type": "code",
      "execution_count": 9,
      "metadata": {
        "id": "w20Ntq-qOZ8f"
      },
      "outputs": [],
      "source": [
        "data_train = data_train.to_numpy()\n",
        "data_test = data_test.to_numpy() "
      ]
    },
    {
      "cell_type": "code",
      "execution_count": 10,
      "metadata": {
        "colab": {
          "base_uri": "https://localhost:8080/",
          "height": 0
        },
        "id": "vPBaJjzaObZR",
        "outputId": "c2bbc7fa-6419-4561-f22c-d62f46e973fa"
      },
      "outputs": [
        {
          "data": {
            "text/plain": [
              "array([-0.67649377,  4.4784737 , -0.24524031,  0.93659743,  0.63880653,\n",
              "       -0.18645145,  1.14129765, -1.13645639, -0.15107071, -0.83562777,\n",
              "       -0.89183299,  2.76216304, -0.08767688,  0.96141466, -0.91668021,\n",
              "       -0.15588723])"
            ]
          },
          "execution_count": 10,
          "metadata": {},
          "output_type": "execute_result"
        }
      ],
      "source": [
        "data_train[0]"
      ]
    },
    {
      "cell_type": "code",
      "execution_count": 11,
      "metadata": {
        "colab": {
          "base_uri": "https://localhost:8080/",
          "height": 0
        },
        "id": "uGMrzGBntthP",
        "outputId": "a742e3db-1212-4b2d-a146-118e4c62ccb0"
      },
      "outputs": [
        {
          "data": {
            "text/plain": [
              "array([1, 0, 0, ..., 0, 0, 0])"
            ]
          },
          "execution_count": 11,
          "metadata": {},
          "output_type": "execute_result"
        }
      ],
      "source": [
        "target_train"
      ]
    },
    {
      "cell_type": "code",
      "execution_count": 12,
      "metadata": {
        "id": "qjX_jYGPbOvY"
      },
      "outputs": [],
      "source": [
        "from sklearn.base import BaseEstimator, TransformerMixin, ClassifierMixin\n",
        "from sklearn.pipeline import make_pipeline\n",
        "from sklearn.linear_model import LogisticRegression\n",
        "from numpy.linalg import norm\n",
        "from sklearn.preprocessing import StandardScaler\n",
        "from sklearn.metrics import accuracy_score\n",
        "from sklearn.neighbors import KNeighborsClassifier\n",
        "from sklearn.svm import SVC\n",
        "from sklearn.naive_bayes import GaussianNB"
      ]
    },
    {
      "cell_type": "markdown",
      "metadata": {
        "id": "Q6PN84fdnXvN"
      },
      "source": [
        "## Linear Regression (Линейная регрессия)"
      ]
    },
    {
      "cell_type": "code",
      "execution_count": 13,
      "metadata": {
        "id": "ZVmN-pgkyx35"
      },
      "outputs": [],
      "source": [
        "from sklearn.linear_model import LinearRegression"
      ]
    },
    {
      "cell_type": "markdown",
      "metadata": {
        "id": "Q63NMZ4Qm1Cy"
      },
      "source": [
        "Линейная реграссия с испольованием аналитических формул:"
      ]
    },
    {
      "cell_type": "code",
      "execution_count": 14,
      "metadata": {
        "id": "JKI4DI0Eljr_"
      },
      "outputs": [],
      "source": [
        "class LinearRegressionClassifier(BaseEstimator, ClassifierMixin):\n",
        "    def __init__(self, fit_intercept=True):\n",
        "        self.fit_intercept = fit_intercept\n",
        "\n",
        "    def fit(self, X, y):\n",
        "        if self.fit_intercept:\n",
        "            X = np.hstack((X, np.ones((X.shape[0], 1))))\n",
        "        self.w = np.linalg.inv(X.T @ X) @ X.T @ y\n",
        "        return self\n",
        "        \n",
        "    def predict(self, X):\n",
        "        if self.fit_intercept:\n",
        "            X = np.hstack((X, np.ones((X.shape[0], 1))))\n",
        "        y_pred = X @ self.w\n",
        "        return np.where(y_pred > 0, 1, 0)\n",
        "    \n",
        "    def get_weights(self):\n",
        "        return self.w"
      ]
    },
    {
      "cell_type": "code",
      "execution_count": 15,
      "metadata": {
        "colab": {
          "base_uri": "https://localhost:8080/",
          "height": 0
        },
        "id": "P53Hi_fNrFfP",
        "outputId": "06771eb9-a123-4382-d068-886fd8363360"
      },
      "outputs": [
        {
          "name": "stdout",
          "output_type": "stream",
          "text": [
            "-0.3873137576180189 1.0515142166119398\n",
            "Accuracy: 0.45735905651373643\n"
          ]
        }
      ],
      "source": [
        "classifier = LinearRegression()\n",
        "classifier.fit(data_train, target_train)\n",
        "y_pred = classifier.predict(data_test)\n",
        "print(min(y_pred), max(y_pred))\n",
        "y_pred = np.where(y_pred >= 0, 1, 0)\n",
        "print(\"Accuracy:\", accuracy_score(target_test, y_pred))"
      ]
    },
    {
      "cell_type": "code",
      "execution_count": 16,
      "metadata": {
        "colab": {
          "base_uri": "https://localhost:8080/",
          "height": 0
        },
        "id": "ptzT6DLLfQwa",
        "outputId": "0ac1c7d2-a1c0-4197-a654-71eb5e811a40"
      },
      "outputs": [
        {
          "name": "stdout",
          "output_type": "stream",
          "text": [
            "0 1\n",
            "Accuracy: 0.7322925898152567\n"
          ]
        }
      ],
      "source": [
        "my_classifier = LinearRegressionClassifier(fit_intercept = False)\n",
        "my_classifier.fit(data_train, target_train)\n",
        "y_pred = my_classifier.predict(data_test)\n",
        "print(min(y_pred), max(y_pred))\n",
        "print(\"Accuracy:\", accuracy_score(target_test, y_pred))"
      ]
    },
    {
      "cell_type": "markdown",
      "metadata": {
        "id": "eJ0ksjZd-3u7"
      },
      "source": [
        "## Logistic Regression (Логистическая регрессия)"
      ]
    },
    {
      "cell_type": "code",
      "execution_count": 17,
      "metadata": {
        "id": "GJE5lAX7tCcU"
      },
      "outputs": [],
      "source": [
        "class LogisticRegressionClassifier(BaseEstimator, ClassifierMixin):\n",
        "    def __init__(self, lr = 0.05, max_iters = 2500, fit_intercept = True):\n",
        "        self.fit_intercept = fit_intercept\n",
        "        self.lr = lr\n",
        "        self.max_iters = max_iters\n",
        "\n",
        "    def fit(self, X, Y):\n",
        "        if self.fit_intercept:\n",
        "            X = np.hstack((X, np.ones((X.shape[0], 1))))\n",
        "        self.m, self.n = X.shape\n",
        "        self.W = np.zeros(self.n)\n",
        "        self.X = X        \n",
        "        self.Y = Y\n",
        "        for i in range(self.max_iters):\n",
        "            self.update_weights()\n",
        "        return self\n",
        "\n",
        "    def update_weights(self):\n",
        "        z = self.X.dot(self.W)\n",
        "        a = 1 / (1 + np.exp(-z))\n",
        "        grad = (a - self.Y.T)\n",
        "        grad = np.reshape(grad, self.m)\n",
        "        dW = np.dot(self.X.T, grad) / self.m\n",
        "        db = np.sum(grad) / self.m\n",
        "        self.W = self.W - self.lr * dW\n",
        "\n",
        "        return self\n",
        "\n",
        "    def predict(self, X) :\n",
        "        if self.fit_intercept:\n",
        "            X = np.hstack((X, np.ones((X.shape[0], 1))))\n",
        "        z = X.dot(self.W)\n",
        "        z = 1 / ( 1 + np.exp(-z))\n",
        "        y = np.where(z > 0.5, 1, 0)\n",
        "        return y"
      ]
    },
    {
      "cell_type": "code",
      "execution_count": 18,
      "metadata": {
        "colab": {
          "base_uri": "https://localhost:8080/",
          "height": 0
        },
        "id": "CeLXZTN77gMH",
        "outputId": "f9ba1bc0-6eb0-47b7-ef91-b65243bde65f"
      },
      "outputs": [
        {
          "name": "stdout",
          "output_type": "stream",
          "text": [
            "Accuracy: 0.798145749539846\n"
          ]
        }
      ],
      "source": [
        "classifier = LogisticRegression(max_iter = 1000)\n",
        "classifier.fit(data_train, target_train)\n",
        "y_pred = classifier.predict(data_test)\n",
        "print(\"Accuracy:\", accuracy_score(target_test, y_pred))"
      ]
    },
    {
      "cell_type": "code",
      "execution_count": 19,
      "metadata": {
        "colab": {
          "base_uri": "https://localhost:8080/",
          "height": 0
        },
        "id": "ZOr-_BBq_ZhO",
        "outputId": "584d0c7f-fded-44b4-c0d0-abc3044e0973"
      },
      "outputs": [
        {
          "name": "stdout",
          "output_type": "stream",
          "text": [
            "Accuracy: 0.7980775785670462\n"
          ]
        }
      ],
      "source": [
        "my_classifier = LogisticRegressionClassifier()\n",
        "my_classifier.fit(data_train, target_train)\n",
        "y_pred = my_classifier.predict(data_test)\n",
        "print(\"Accuracy:\", accuracy_score(target_test, y_pred))"
      ]
    },
    {
      "cell_type": "markdown",
      "metadata": {
        "id": "gDjGmhJrv19B"
      },
      "source": [
        "## SVM (Метод опорных векторов)"
      ]
    },
    {
      "cell_type": "code",
      "execution_count": 20,
      "metadata": {
        "id": "qho4kEUvyTrQ"
      },
      "outputs": [],
      "source": [
        "class SVMClassifier(ClassifierMixin, BaseEstimator):\n",
        "    def __init__(self, epoches = 200, lr = 0.005, alpha = 0.01, fit_intercept = True):\n",
        "        self.epoches = epoches\n",
        "        self.lr = lr\n",
        "        self.alpha = alpha\n",
        "        self.fit_intercept = fit_intercept\n",
        "\n",
        "    def update_weights(self):\n",
        "        z = np.dot(self.X, self.W)\n",
        "        dz = self.alpha * self.W\n",
        "        for i, z_i in enumerate(z):\n",
        "            if z_i * self.Y[i] < 1:\n",
        "                dz -= self.X[i] * self.Y[i]\n",
        "        self.W -= self.lr * dz\n",
        "\n",
        "    def fit(self, X, y):\n",
        "        if self.fit_intercept:\n",
        "            X = np.hstack((X, np.ones((X.shape[0], 1))))\n",
        "        self.m, self.n = X.shape\n",
        "        self.X = X\n",
        "        self.Y = y\n",
        "        self.W = np.zeros(self.n)\n",
        "\n",
        "        for _ in range(self.epoches):\n",
        "            self.update_weights()\n",
        "        return self\n",
        "\n",
        "    def predict(self, X):\n",
        "        if self.fit_intercept:\n",
        "            X = np.hstack((X, np.ones((X.shape[0], 1))))\n",
        "        return np.sign(np.dot(X, self.W))"
      ]
    },
    {
      "cell_type": "code",
      "execution_count": 21,
      "metadata": {
        "colab": {
          "base_uri": "https://localhost:8080/",
          "height": 0
        },
        "id": "L296CaQn6VbG",
        "outputId": "9af0426f-66fa-45f5-db4a-eacb4b337016"
      },
      "outputs": [
        {
          "name": "stdout",
          "output_type": "stream",
          "text": [
            "Accuracy: 0.7877837616742791\n"
          ]
        }
      ],
      "source": [
        "classifier = SVC(kernel = \"linear\")\n",
        "classifier.fit(data_train, target_train)\n",
        "y_pred = classifier.predict(data_test)\n",
        "print(\"Accuracy:\", accuracy_score(target_test, y_pred))"
      ]
    },
    {
      "cell_type": "code",
      "execution_count": 22,
      "metadata": {
        "colab": {
          "base_uri": "https://localhost:8080/",
          "height": 0
        },
        "id": "I_ct5y_31W8E",
        "outputId": "26dfc8d1-66b7-4a18-c028-a9ece8f72e8e"
      },
      "outputs": [
        {
          "name": "stdout",
          "output_type": "stream",
          "text": [
            "Accuracy: 0.6592133069738905\n"
          ]
        }
      ],
      "source": [
        "my_classifier = SVMClassifier()\n",
        "my_classifier.fit(data_train, np.where(target_train > 0, 1, -1))\n",
        "y_pred = my_classifier.predict(data_test)\n",
        "y_pred = np.where(y_pred > 0, 1, 0)\n",
        "print(\"Accuracy:\", accuracy_score(target_test, y_pred))"
      ]
    },
    {
      "cell_type": "markdown",
      "metadata": {
        "id": "yNTHOLvPnUJK"
      },
      "source": [
        "## KNN (Метод k-ближайших соседей)"
      ]
    },
    {
      "cell_type": "code",
      "execution_count": 23,
      "metadata": {
        "id": "viVwhhtgNG5U"
      },
      "outputs": [],
      "source": [
        "from sklearn.metrics import euclidean_distances\n",
        "class KNNClassifier(ClassifierMixin, BaseEstimator):\n",
        "    def __init__(self, nb = 5):\n",
        "        self.nb = nb\n",
        "\n",
        "    def fit(self, X, y):\n",
        "        self.X_ = X\n",
        "        self.y_ = y\n",
        "        self.classes_ = np.unique(y)\n",
        "        return self\n",
        "\n",
        "    def predict(self, X):\n",
        "        y = np.ndarray((X.shape[0],))\n",
        "        for i, elem in enumerate(X):\n",
        "            distances = euclidean_distances([elem], self.X_)[0]\n",
        "            neighbors = np.argpartition(distances, kth = self.nb - 1)\n",
        "            k_neighbors = neighbors[:self.nb]\n",
        "            labels, cnts = np.unique(self.y_[k_neighbors], return_counts = True)\n",
        "            y[i] = labels[cnts.argmax()]\n",
        "        return y"
      ]
    },
    {
      "cell_type": "code",
      "execution_count": 24,
      "metadata": {
        "colab": {
          "base_uri": "https://localhost:8080/",
          "height": 0
        },
        "id": "kIYzUa56Ep64",
        "outputId": "b2796d7c-3a6d-41fe-f85a-4cbccf46f098"
      },
      "outputs": [
        {
          "name": "stdout",
          "output_type": "stream",
          "text": [
            "Accuracy: 0.8087804212966119\n"
          ]
        }
      ],
      "source": [
        "classifier = KNeighborsClassifier(n_neighbors = 5)\n",
        "classifier.fit(data_train, target_train)\n",
        "y_pred = classifier.predict(data_test)\n",
        "print(\"Accuracy:\", accuracy_score(target_test, y_pred))"
      ]
    },
    {
      "cell_type": "code",
      "execution_count": 25,
      "metadata": {
        "colab": {
          "base_uri": "https://localhost:8080/",
          "height": 0
        },
        "id": "20_R1O66Ep-V",
        "outputId": "2e1bde8d-7e60-4e17-f8ed-c7f781cfb71d"
      },
      "outputs": [
        {
          "name": "stdout",
          "output_type": "stream",
          "text": [
            "Accuracy: 0.8087804212966119\n"
          ]
        }
      ],
      "source": [
        "my_classifier = KNNClassifier(nb = 5)\n",
        "my_classifier.fit(data_train, target_train)\n",
        "y_pred = my_classifier.predict(data_test)\n",
        "print(\"Accuracy:\", accuracy_score(target_test, y_pred))"
      ]
    },
    {
      "cell_type": "markdown",
      "metadata": {
        "id": "4u-opMSo_Lm2"
      },
      "source": [
        "## Naive Bayes (Наивный байесовский классификатор)"
      ]
    },
    {
      "cell_type": "code",
      "execution_count": 26,
      "metadata": {
        "id": "6oRs9W9psi3c"
      },
      "outputs": [],
      "source": [
        "import math\n",
        "class NaiveBayesClassifier(ClassifierMixin, BaseEstimator):\n",
        "    def __init__(self):\n",
        "       pass\n",
        "\n",
        "    def fit(self, X, y):\n",
        "        self.X = X\n",
        "        self.y = y\n",
        "        labels, counts = np.unique(self.y, return_counts = True)\n",
        "        self.labels = labels\n",
        "        self.freq = np.array([i / self.y.shape[0] for i in counts])\n",
        "        self.means = np.array([self.X[self.y == i].mean(axis = 0) for i in labels])\n",
        "        self.stds = np.array([self.X[self.y == i].std(axis = 0) for i in labels])\n",
        "        return self\n",
        "\n",
        "    def gaussian(self, mu, sigma, x0):\n",
        "        return np.exp(-(x0 - mu) ** 2 / (2 * sigma)) / np.sqrt(2.0 * math.pi * sigma)\n",
        "\n",
        "    def predict(self, X):        \n",
        "        res = np.zeros(X.shape[0])\n",
        "        for i, x_i  in enumerate(X):\n",
        "            freq = np.array(self.freq)\n",
        "            for j, label_j in enumerate(self.labels):\n",
        "                p_x_cond_y = np.array([self.gaussian(self.means[j][k], self.stds[j][k], x_i[k]) for k in range(X.shape[1])])\n",
        "                freq[j] *= np.prod(p_x_cond_y)\n",
        "            res[i] = np.argmax(freq)\n",
        "        return res"
      ]
    },
    {
      "cell_type": "code",
      "execution_count": 27,
      "metadata": {
        "colab": {
          "base_uri": "https://localhost:8080/",
          "height": 0
        },
        "id": "SBBCI0R1HH9D",
        "outputId": "696f1346-6bfc-4806-cd23-4dd17df72364"
      },
      "outputs": [
        {
          "name": "stdout",
          "output_type": "stream",
          "text": [
            "Accuracy: 0.7535619333287886\n"
          ]
        }
      ],
      "source": [
        "classifier = GaussianNB()\n",
        "classifier.fit(data_train, target_train)\n",
        "y_pred = classifier.predict(data_test)\n",
        "print(\"Accuracy:\", accuracy_score(target_test, y_pred))"
      ]
    },
    {
      "cell_type": "code",
      "execution_count": 28,
      "metadata": {
        "colab": {
          "base_uri": "https://localhost:8080/",
          "height": 0
        },
        "id": "mTb6URRwCy0g",
        "outputId": "a36690e5-181e-439b-eee3-da857d209245"
      },
      "outputs": [
        {
          "name": "stdout",
          "output_type": "stream",
          "text": [
            "Accuracy: 0.7633785534119572\n"
          ]
        }
      ],
      "source": [
        "my_classifier = NaiveBayesClassifier()\n",
        "my_classifier.fit(data_train, target_train)\n",
        "y_pred = my_classifier.predict(data_test)\n",
        "print(\"Accuracy:\", accuracy_score(target_test, y_pred))"
      ]
    },
    {
      "cell_type": "markdown",
      "metadata": {
        "id": "ZZTteleLHesB"
      },
      "source": [
        "##  Подбор параметов"
      ]
    },
    {
      "cell_type": "markdown",
      "metadata": {
        "id": "3mQjLjrgHqDp"
      },
      "source": [
        "Будем использовать Pipeline и GridSearchCV для поиска оптимальных параметров:"
      ]
    },
    {
      "cell_type": "code",
      "execution_count": 29,
      "metadata": {
        "id": "YMhvNAbDg00X"
      },
      "outputs": [],
      "source": [
        "from sklearn.pipeline import Pipeline\n",
        "from sklearn.model_selection import GridSearchCV\n",
        "import matplotlib.pyplot as plt\n",
        "import pickle"
      ]
    },
    {
      "cell_type": "code",
      "execution_count": 30,
      "metadata": {
        "id": "9lgaOnTugyv9"
      },
      "outputs": [],
      "source": [
        "from sklearn.metrics import confusion_matrix, precision_score, recall_score, RocCurveDisplay, ConfusionMatrixDisplay\n",
        "\n",
        "def scores(y_pred1, y_pred2, y):\n",
        "    print(\"Accuracy:\", accuracy_score(y, y_pred1))\n",
        "    print(\"Accuracy sklearn model:\", accuracy_score(y, y_pred2))\n",
        "    print(\"Recall:\", recall_score(y, y_pred1))\n",
        "    print(\"Recall sklearn model:\", accuracy_score(y, y_pred2))\n",
        "    print(\"Precision:\", precision_score(y, y_pred))\n",
        "    print(\"Precision sklearn model:\", accuracy_score(y, y_pred2))\n",
        "    figure = plt.figure(figsize = (20, 5))\n",
        "    matr1 = confusion_matrix(y, y_pred1)\n",
        "    matr2 = confusion_matrix(y, y_pred2)\n",
        "    ax1 = plt.subplot(1, 2, 1)\n",
        "    ax2 = plt.subplot(1, 2, 2)\n",
        "    ax1.set_title(\"My implementation\")\n",
        "    ax2.set_title(\"Scikit-learn implementation\")\n",
        "    ConfusionMatrixDisplay(matr1).plot(ax = ax1)\n",
        "    ConfusionMatrixDisplay(matr2).plot(ax = ax2)\n",
        "    plt.show()"
      ]
    },
    {
      "cell_type": "markdown",
      "metadata": {
        "id": "xMLSYXjBd-yf"
      },
      "source": [
        "### Linear Regression (Линейная регрессия)"
      ]
    },
    {
      "cell_type": "code",
      "execution_count": 31,
      "metadata": {
        "colab": {
          "base_uri": "https://localhost:8080/",
          "height": 0
        },
        "id": "DWMqGAtneDIN",
        "outputId": "d69280a0-fb86-49e5-a357-a970079bac7f"
      },
      "outputs": [
        {
          "name": "stdout",
          "output_type": "stream",
          "text": [
            "Лучшие гиперпараметры модели: {'Linear__fit_intercept': False}\n",
            "Лучший счёт модели: 0.7230171953700391\n"
          ]
        }
      ],
      "source": [
        "classifier = GridSearchCV(Pipeline([(\"Linear\", LinearRegressionClassifier())]), {\"Linear__fit_intercept\": [True, False]})\n",
        "classifier.fit(data_train, target_train)\n",
        "y_pred1 = classifier.best_estimator_.predict(data_test)\n",
        "print(\"Лучшие гиперпараметры модели:\", classifier.best_params_)\n",
        "print(\"Лучший счёт модели:\", classifier.best_score_)"
      ]
    },
    {
      "cell_type": "code",
      "execution_count": 32,
      "metadata": {
        "id": "oYjXmjiCeDLV"
      },
      "outputs": [],
      "source": [
        "model = LinearRegressionClassifier()\n",
        "model.fit(data_train, target_train)\n",
        "y_pred2 = model.predict(data_test)"
      ]
    },
    {
      "cell_type": "code",
      "execution_count": 33,
      "metadata": {
        "colab": {
          "base_uri": "https://localhost:8080/",
          "height": 458
        },
        "id": "yPev6LePeDNe",
        "outputId": "e64c2aa4-5c31-4ec8-b601-6ae2bbf6d3c5"
      },
      "outputs": [
        {
          "name": "stdout",
          "output_type": "stream",
          "text": [
            "Accuracy: 0.7322925898152567\n",
            "Accuracy sklearn model: 0.44645170086577135\n",
            "Recall: 0.9060948081264109\n",
            "Recall sklearn model: 0.44645170086577135\n",
            "Precision: 0.575310193183603\n",
            "Precision sklearn model: 0.44645170086577135\n"
          ]
        },
        {
          "data": {
            "image/png": "[encoded data removed]",
            "text/plain": [
              "<Figure size 1440x360 with 4 Axes>"
            ]
          },
          "metadata": {
            "needs_background": "light"
          },
          "output_type": "display_data"
        }
      ],
      "source": [
        "scores(y_pred1, y_pred2, target_test)"
      ]
    },
    {
      "cell_type": "code",
      "execution_count": 34,
      "metadata": {
        "id": "zGM7RycqyK48"
      },
      "outputs": [],
      "source": [
        "with open('LinearRegression.pickle', 'wb') as f:\n",
        "    pickle.dump(classifier.best_params_, f)"
      ]
    },
    {
      "cell_type": "markdown",
      "metadata": {
        "id": "OjYZvQz4bekh"
      },
      "source": [
        "### Logistic Regression (Логистическая регрессия)"
      ]
    },
    {
      "cell_type": "code",
      "execution_count": 35,
      "metadata": {
        "colab": {
          "base_uri": "https://localhost:8080/",
          "height": 0
        },
        "id": "EevYKyA2bet9",
        "outputId": "b90df340-a998-4423-b9e0-4f7e55d42ed2"
      },
      "outputs": [
        {
          "name": "stdout",
          "output_type": "stream",
          "text": [
            "Лучшие гиперпараметры модели: {'LogReg__fit_intercept': True, 'LogReg__lr': 0.01, 'LogReg__max_iters': 2000}\n",
            "Лучший счёт модели: 0.7958569356480151\n"
          ]
        }
      ],
      "source": [
        "classifier = GridSearchCV(Pipeline([(\"LogReg\", LogisticRegressionClassifier())]),\n",
        "                   {\"LogReg__lr\" : [0.01, 0.005, 0.001],\n",
        "                    \"LogReg__max_iters\" : [100, 200, 500, 2000],\n",
        "                    \"LogReg__fit_intercept\" : [True, False]})\n",
        "classifier.fit(data_train, target_train)\n",
        "y_pred1 = classifier.best_estimator_.predict(data_test)\n",
        "print(\"Лучшие гиперпараметры модели:\", classifier.best_params_)\n",
        "print(\"Лучший счёт модели:\", classifier.best_score_)"
      ]
    },
    {
      "cell_type": "code",
      "execution_count": 36,
      "metadata": {
        "id": "7z6HPfQDbkbt"
      },
      "outputs": [],
      "source": [
        "model = LogisticRegression(max_iter = 2000)\n",
        "model.fit(data_train, target_train)\n",
        "y_pred2 = model.predict(data_test)"
      ]
    },
    {
      "cell_type": "code",
      "execution_count": 37,
      "metadata": {
        "colab": {
          "base_uri": "https://localhost:8080/",
          "height": 458
        },
        "id": "wijJpHY0bked",
        "outputId": "c2000f1a-941a-46db-ee93-72fbc77054d9"
      },
      "outputs": [
        {
          "name": "stdout",
          "output_type": "stream",
          "text": [
            "Accuracy: 0.7932374394982616\n",
            "Accuracy sklearn model: 0.798145749539846\n",
            "Recall: 0.6395033860045146\n",
            "Recall sklearn model: 0.798145749539846\n",
            "Precision: 0.575310193183603\n",
            "Precision sklearn model: 0.798145749539846\n"
          ]
        },
        {
          "data": {
            "image/png": "[encoded data removed]",
            "text/plain": [
              "<Figure size 1440x360 with 4 Axes>"
            ]
          },
          "metadata": {
            "needs_background": "light"
          },
          "output_type": "display_data"
        }
      ],
      "source": [
        "scores(y_pred1, y_pred2, target_test)"
      ]
    },
    {
      "cell_type": "code",
      "execution_count": 38,
      "metadata": {
        "id": "HWpDGDZiyTz0"
      },
      "outputs": [],
      "source": [
        "with open('LogisticRegression.pickle', 'wb') as f:\n",
        "    pickle.dump(classifier.best_params_, f)"
      ]
    },
    {
      "cell_type": "markdown",
      "metadata": {
        "id": "V3GK_DDXbcUf"
      },
      "source": [
        "### SVM (Метод опорных векторов)"
      ]
    },
    {
      "cell_type": "code",
      "execution_count": 39,
      "metadata": {
        "colab": {
          "base_uri": "https://localhost:8080/",
          "height": 0
        },
        "id": "GSmzUnldKt_3",
        "outputId": "95640116-dbc6-42e4-e1d6-d8bb44339f61"
      },
      "outputs": [
        {
          "name": "stdout",
          "output_type": "stream",
          "text": [
            "Лучшие гиперпараметры модели: {'SVM__alpha': 0.1, 'SVM__epoches': 50, 'SVM__lr': 0.0001}\n",
            "Лучший счёт модели: 0.7896920863825191\n"
          ]
        }
      ],
      "source": [
        "classifier = GridSearchCV(Pipeline([(\"SVM\", SVMClassifier())]),\n",
        "                   {\"SVM__epoches\" : [10, 50, 100],\n",
        "                    \"SVM__lr\" : [0.01, 0.05, 0.0001],\n",
        "                    \"SVM__alpha\" : [2.0, 1.0, 0.1, 0.01, 0.0]})\n",
        "classifier.fit(data_train, np.where(target_train > 0, 1, -1))\n",
        "y_pred1 = classifier.best_estimator_.predict(data_test)\n",
        "y_pred1 = np.where(y_pred1 > 0, 1, 0)\n",
        "print(\"Лучшие гиперпараметры модели:\", classifier.best_params_)\n",
        "print(\"Лучший счёт модели:\", classifier.best_score_)"
      ]
    },
    {
      "cell_type": "code",
      "execution_count": 40,
      "metadata": {
        "id": "QQXAi4s-VIwA"
      },
      "outputs": [],
      "source": [
        "model = SVC(kernel = \"linear\")\n",
        "model.fit(data_train, target_train)\n",
        "y_pred2 = model.predict(data_test)"
      ]
    },
    {
      "cell_type": "code",
      "execution_count": 41,
      "metadata": {
        "colab": {
          "base_uri": "https://localhost:8080/",
          "height": 458
        },
        "id": "JpHI2DlcPT05",
        "outputId": "236571d1-2083-47b9-a8a4-7f49121d96ce"
      },
      "outputs": [
        {
          "name": "stdout",
          "output_type": "stream",
          "text": [
            "Accuracy: 0.7871020519462812\n",
            "Accuracy sklearn model: 0.7877837616742791\n",
            "Recall: 0.6557562076749436\n",
            "Recall sklearn model: 0.7877837616742791\n",
            "Precision: 0.575310193183603\n",
            "Precision sklearn model: 0.7877837616742791\n"
          ]
        },
        {
          "data": {
            "image/png": "[encoded data removed]",
            "text/plain": [
              "<Figure size 1440x360 with 4 Axes>"
            ]
          },
          "metadata": {
            "needs_background": "light"
          },
          "output_type": "display_data"
        }
      ],
      "source": [
        "scores(y_pred1, y_pred2, target_test)"
      ]
    },
    {
      "cell_type": "code",
      "execution_count": 42,
      "metadata": {
        "id": "hOIXFHhbxvmo"
      },
      "outputs": [],
      "source": [
        "with open('SVM.pickle', 'wb') as f:\n",
        "    pickle.dump(classifier.best_params_, f)"
      ]
    },
    {
      "cell_type": "markdown",
      "metadata": {
        "id": "UFTBc65HbW9z"
      },
      "source": [
        "### KNN (Метод k-ближайших соседей)"
      ]
    },
    {
      "cell_type": "code",
      "execution_count": 43,
      "metadata": {
        "colab": {
          "base_uri": "https://localhost:8080/",
          "height": 0
        },
        "id": "FzdMVxwgT0AC",
        "outputId": "9278530e-d21b-4a7e-d4e2-96dc0439c14b"
      },
      "outputs": [
        {
          "name": "stdout",
          "output_type": "stream",
          "text": [
            "Лучшие гиперпараметры модели: {'KNN__nb': 7}\n",
            "Лучший счёт модели: 0.8100567189640312\n"
          ]
        }
      ],
      "source": [
        "classifier = GridSearchCV(Pipeline([(\"KNN\", KNNClassifier(nb=5))]), {\"KNN__nb\" : [7, 5, 3, 1]})\n",
        "classifier.fit(data_train, target_train)\n",
        "y_pred1 = classifier.best_estimator_.predict(data_test)\n",
        "print(\"Лучшие гиперпараметры модели:\", classifier.best_params_)\n",
        "print(\"Лучший счёт модели:\", classifier.best_score_)"
      ]
    },
    {
      "cell_type": "code",
      "execution_count": 44,
      "metadata": {
        "id": "Gj7zNj7ibIJE"
      },
      "outputs": [],
      "source": [
        "model = KNeighborsClassifier(n_neighbors = 5)\n",
        "model.fit(data_train, target_train)\n",
        "y_pred2 = model.predict(data_test)"
      ]
    },
    {
      "cell_type": "code",
      "execution_count": 45,
      "metadata": {
        "colab": {
          "base_uri": "https://localhost:8080/",
          "height": 458
        },
        "id": "gXEp3fGdT0Hm",
        "outputId": "2e2af3ff-b99b-4489-f254-b394c84bfef7"
      },
      "outputs": [
        {
          "name": "stdout",
          "output_type": "stream",
          "text": [
            "Accuracy: 0.8123934828550003\n",
            "Accuracy sklearn model: 0.8087804212966119\n",
            "Recall: 0.6544018058690745\n",
            "Recall sklearn model: 0.8087804212966119\n",
            "Precision: 0.575310193183603\n",
            "Precision sklearn model: 0.8087804212966119\n"
          ]
        },
        {
          "data": {
            "image/png": "[encoded data removed]",
            "text/plain": [
              "<Figure size 1440x360 with 4 Axes>"
            ]
          },
          "metadata": {
            "needs_background": "light"
          },
          "output_type": "display_data"
        }
      ],
      "source": [
        "scores(y_pred1, y_pred2, target_test)"
      ]
    },
    {
      "cell_type": "code",
      "execution_count": 46,
      "metadata": {
        "id": "ib0pa6BCybxL"
      },
      "outputs": [],
      "source": [
        "with open('KNN.pickle', 'wb') as f:\n",
        "    pickle.dump(classifier.best_params_, f)"
      ]
    },
    {
      "cell_type": "markdown",
      "metadata": {
        "id": "9P_72JnTxw4H"
      },
      "source": [
        "### Naive Bayes (Наивный байесовский классификатор)"
      ]
    },
    {
      "cell_type": "code",
      "execution_count": 47,
      "metadata": {
        "id": "WLenhSasPRDh"
      },
      "outputs": [],
      "source": [
        "classifier = NaiveBayesClassifier()\n",
        "classifier.fit(data_train, target_train)\n",
        "y_pred1 = classifier.predict(data_test)"
      ]
    },
    {
      "cell_type": "code",
      "execution_count": 48,
      "metadata": {
        "id": "AUBX_V-yPRTN"
      },
      "outputs": [],
      "source": [
        "model = GaussianNB()\n",
        "model.fit(data_train, target_train)\n",
        "y_pred2 = model.predict(data_test)"
      ]
    },
    {
      "cell_type": "code",
      "execution_count": 49,
      "metadata": {
        "colab": {
          "base_uri": "https://localhost:8080/",
          "height": 458
        },
        "id": "hIiB_J6bK-Z3",
        "outputId": "fa7429d9-b780-46f4-8974-158e355efab5"
      },
      "outputs": [
        {
          "name": "stdout",
          "output_type": "stream",
          "text": [
            "Accuracy: 0.7633785534119572\n",
            "Accuracy sklearn model: 0.7535619333287886\n",
            "Recall: 0.82686230248307\n",
            "Recall sklearn model: 0.7535619333287886\n",
            "Precision: 0.575310193183603\n",
            "Precision sklearn model: 0.7535619333287886\n"
          ]
        },
        {
          "data": {
            "image/png": "[encoded data removed]",
            "text/plain": [
              "<Figure size 1440x360 with 4 Axes>"
            ]
          },
          "metadata": {
            "needs_background": "light"
          },
          "output_type": "display_data"
        }
      ],
      "source": [
        "scores(y_pred1, y_pred2, target_test)"
      ]
    }
  ],
  "metadata": {
    "colab": {
      "collapsed_sections": [],
      "name": "Lab2.ipynb",
      "provenance": []
    },
    "kernelspec": {
      "display_name": "Python 3.10.6 64-bit",
      "language": "python",
      "name": "python3"
    },
    "language_info": {
      "name": "python",
      "version": "3.10.6"
    },
    "vscode": {
      "interpreter": {
        "hash": "b0fa6594d8f4cbf19f97940f81e996739fb7646882a419484c72d19e05852a7e"
      }
    }
  },
  "nbformat": 4,
  "nbformat_minor": 0
}
